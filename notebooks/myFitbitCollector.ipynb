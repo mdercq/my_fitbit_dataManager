{
 "cells": [
  {
   "cell_type": "code",
   "execution_count": 1,
   "metadata": {},
   "outputs": [],
   "source": [
    "import configparser\n",
    "import pandas as pd\n",
    "import datetime\n",
    "import json\n",
    "import os"
   ]
  },
  {
   "cell_type": "code",
   "execution_count": 2,
   "metadata": {},
   "outputs": [],
   "source": [
    "from pythonFitbitMaster import fitbit\n",
    "from pythonFitbitMaster import gather_keys_oauth2 as Oauth2"
   ]
  },
  {
   "cell_type": "code",
   "execution_count": 14,
   "metadata": {},
   "outputs": [],
   "source": [
    "# emplacements des datasets, et nomenclature\n",
    "datasets_location = \"/media/mdercq/sedentaire/Nomade/15_datasets/\"\n",
    "fitbit_folder = \"fitbit_data\"\n",
    "intradayHR_folder = \"intraday_heart\"\n",
    "heartRateZones_folder = \"heartrate_zones\"\n",
    "sleep_status_folder = 'sleep_status'\n",
    "\n",
    "restingHR_file = \"restingHR.txt\"\n",
    "totalMinutesAsleep = 'totalMinutesAsleep'\n",
    "totalTimeInBed = 'totalTimeInBed'\n",
    "sleep_efficiency = 'sleepEfficiency'\n",
    "sleep_timings = 'sleepTimings'\n",
    "\n",
    "myfitbit_configfile = 'myfitbit.ini'"
   ]
  },
  {
   "cell_type": "code",
   "execution_count": 15,
   "metadata": {},
   "outputs": [],
   "source": [
    "# settings\n",
    "config = configparser.ConfigParser()\n",
    "config.read(myfitbit_configfile)\n",
    "last_day = config['date_time']['last_date']"
   ]
  },
  {
   "cell_type": "code",
   "execution_count": 5,
   "metadata": {},
   "outputs": [
    {
     "name": "stderr",
     "output_type": "stream",
     "text": [
      "[23/Sep/2019:22:33:47] ENGINE Listening for SIGTERM.\n",
      "[23/Sep/2019:22:33:47] ENGINE Listening for SIGHUP.\n",
      "[23/Sep/2019:22:33:47] ENGINE Listening for SIGUSR1.\n",
      "[23/Sep/2019:22:33:47] ENGINE Bus STARTING\n",
      "CherryPy Checker:\n",
      "The Application mounted at '' has an empty config.\n",
      "\n",
      "[23/Sep/2019:22:33:47] ENGINE Started monitor thread 'Autoreloader'.\n",
      "[23/Sep/2019:22:33:47] ENGINE Serving on http://127.0.0.1:8080\n",
      "[23/Sep/2019:22:33:47] ENGINE Bus STARTED\n"
     ]
    },
    {
     "name": "stdout",
     "output_type": "stream",
     "text": [
      "127.0.0.1 - - [23/Sep/2019:22:33:49] \"GET /?code=f8a2edf3e94fbc43dfa97b846aded09c64928f78&state=NQQwNFrRSkynobw92p4m3JQRyxHVp0 HTTP/1.1\" 200 122 \"\" \"Mozilla/5.0 (X11; Ubuntu; Linux x86_64; rv:69.0) Gecko/20100101 Firefox/69.0\"\n",
      "127.0.0.1 - - [23/Sep/2019:22:33:49] \"GET /favicon.ico HTTP/1.1\" 200 1406 \"\" \"Mozilla/5.0 (X11; Ubuntu; Linux x86_64; rv:69.0) Gecko/20100101 Firefox/69.0\"\n"
     ]
    },
    {
     "name": "stderr",
     "output_type": "stream",
     "text": [
      "[23/Sep/2019:22:33:50] ENGINE Bus STOPPING\n",
      "[23/Sep/2019:22:33:50] ENGINE HTTP Server cherrypy._cpwsgi_server.CPWSGIServer(('127.0.0.1', 8080)) shut down\n",
      "[23/Sep/2019:22:33:50] ENGINE Stopped thread 'Autoreloader'.\n",
      "[23/Sep/2019:22:33:50] ENGINE Bus STOPPED\n",
      "[23/Sep/2019:22:33:50] ENGINE Bus EXITING\n",
      "[23/Sep/2019:22:33:50] ENGINE Bus EXITED\n",
      "[23/Sep/2019:22:33:50] ENGINE Waiting for child threads to terminate...\n"
     ]
    }
   ],
   "source": [
    "# connection to server\n",
    "server = Oauth2.OAuth2Server(config['fitbit_auth'][\"client_id\"],\n",
    "                             config['fitbit_auth'][\"client_secret\"])\n",
    "server.browser_authorize()\n",
    "ACCESS_TOKEN = str(server.fitbit.client.session.token['access_token'])\n",
    "REFRESH_TOKEN = str(server.fitbit.client.session.token['refresh_token'])\n",
    "auth2_client = fitbit.Fitbit(config['fitbit_auth'][\"client_id\"],\n",
    "                             config['fitbit_auth'][\"client_secret\"],\n",
    "                             access_token=ACCESS_TOKEN,\n",
    "                             refresh_token=REFRESH_TOKEN,\n",
    "                             oauth2=True)"
   ]
  },
  {
   "cell_type": "code",
   "execution_count": 6,
   "metadata": {},
   "outputs": [],
   "source": [
    "config['fitbit_auth']['access_token'] = ACCESS_TOKEN\n",
    "config['fitbit_auth']['refresh_token'] = REFRESH_TOKEN"
   ]
  },
  {
   "cell_type": "code",
   "execution_count": 20,
   "metadata": {},
   "outputs": [],
   "source": [
    "def collect_heart_rate(day_to_collect):\n",
    "    # get the Heart rate intraday data\n",
    "    fit_statsHR = auth2_client.intraday_time_series('activities/heart', base_date=day_to_collect, detail_level='1sec')\n",
    "    # collecting the time series\n",
    "    fullpath = os.path.join(datasets_location, fitbit_folder, intradayHR_folder, day_to_collect + '.csv')\n",
    "    intra_day_HR = pd.DataFrame(fit_statsHR['activities-heart-intraday']['dataset'])\n",
    "    intra_day_HR.to_csv(fullpath, header=True, index=True, sep='\\t', na_rep='n/a')\n",
    "    \n",
    "    # collecting the summary\n",
    "    fullpath = os.path.join(datasets_location, fitbit_folder, heartRateZones_folder, day_to_collect + '.csv')\n",
    "    heartRateZones_data = pd.DataFrame(fit_statsHR['activities-heart'][0]['value']['heartRateZones'])\n",
    "    heartRateZones_data.to_csv(fullpath, header=True, index=True, sep='\\t', na_rep='n/a')\n",
    "    \n",
    "    # collecting the resting value\n",
    "    resting_value = str(fit_statsHR['activities-heart'][0]['value']['restingHeartRate'])\n",
    "    new_line = '{}\\t{}\\n'.format(day_to_collect, resting_value)\n",
    "    with open(os.path.join(datasets_location, fitbit_folder, restingHR_file), 'a') as file:\n",
    "        file.write(new_line)"
   ]
  },
  {
   "cell_type": "code",
   "execution_count": 21,
   "metadata": {},
   "outputs": [],
   "source": [
    "def collect_sleep_data(day_to_collect):\n",
    "    # collect sleep data\n",
    "    fit_statsSl = auth2_client.sleep(date=day_to_collect)\n",
    "    # record some summaries\n",
    "    with open(os.path.join(datasets_location, fitbit_folder, totalMinutesAsleep), 'a') as file:\n",
    "        file.write('{}\\t{}\\n'.format(day_to_collect,\n",
    "                                     fit_statsSl['summary']['totalMinutesAsleep']))\n",
    "    with open(os.path.join(datasets_location, fitbit_folder, totalTimeInBed), 'a') as file:\n",
    "        file.write('{}\\t{}\\n'.format(day_to_collect,\n",
    "                                     fit_statsSl['summary']['totalTimeInBed']))\n",
    "    with open(os.path.join(datasets_location, fitbit_folder, sleep_efficiency), 'a') as file:\n",
    "        file.write('{}\\t{}\\n'.format(day_to_collect,\n",
    "                                     fit_statsSl['sleep'][0]['efficiency']))\n",
    "    with open(os.path.join(datasets_location, fitbit_folder, sleep_timings), 'a') as file:\n",
    "        file.write('{}\\t{}\\t{}\\n'.format(day_to_collect,\n",
    "                                         fit_statsSl['sleep'][0]['startTime'],\n",
    "                                         fit_statsSl['sleep'][0]['endTime']))\n",
    "    # record the time series\n",
    "    fullpath = os.path.join(datasets_location, fitbit_folder, sleep_status_folder, day_to_collect + '.csv')\n",
    "    sleep_status = pd.DataFrame(fit_statsSl['sleep'][0]['minuteData'])\n",
    "    sleep_status['Interpreted'] = sleep_status['value'].map({'2':'Awake','3':'Very Awake','1':'Asleep'})\n",
    "    sleep_status.to_csv(fullpath, header=True, index=True, sep='\\t', na_rep='n/a')"
   ]
  },
  {
   "cell_type": "code",
   "execution_count": 22,
   "metadata": {},
   "outputs": [],
   "source": [
    "with open(myfitbit_configfile, 'w') as configfile:\n",
    "    config.write(configfile)"
   ]
  },
  {
   "cell_type": "code",
   "execution_count": 23,
   "metadata": {},
   "outputs": [],
   "source": [
    "initial_day = last_day\n",
    "initial_day_dt = datetime.datetime.strptime(initial_day, '%Y-%m-%d')\n",
    "for i in range(149):\n",
    "    date_to_process = initial_day_dt + datetime.timedelta(days=i)\n",
    "    collect_heart_rate(date_to_process.strftime('%Y-%m-%d'))\n",
    "    collect_sleep_data(date_to_process.strftime('%Y-%m-%d'))"
   ]
  },
  {
   "cell_type": "code",
   "execution_count": 12,
   "metadata": {},
   "outputs": [
    {
     "ename": "NameError",
     "evalue": "name 'date_to_process' is not defined",
     "output_type": "error",
     "traceback": [
      "\u001b[0;31m---------------------------------------------------------------------------\u001b[0m",
      "\u001b[0;31mNameError\u001b[0m                                 Traceback (most recent call last)",
      "\u001b[0;32m<ipython-input-12-c70b5f055ebb>\u001b[0m in \u001b[0;36m<module>\u001b[0;34m\u001b[0m\n\u001b[0;32m----> 1\u001b[0;31m \u001b[0mconfig\u001b[0m\u001b[0;34m[\u001b[0m\u001b[0;34m'date_time'\u001b[0m\u001b[0;34m]\u001b[0m\u001b[0;34m[\u001b[0m\u001b[0;34m'last_date'\u001b[0m\u001b[0;34m]\u001b[0m \u001b[0;34m=\u001b[0m \u001b[0mstr\u001b[0m\u001b[0;34m(\u001b[0m\u001b[0mdate_to_process\u001b[0m\u001b[0;34m.\u001b[0m\u001b[0mtimetstr\u001b[0m\u001b[0;34m(\u001b[0m\u001b[0;34m'%Y-%m-%d'\u001b[0m\u001b[0;34m)\u001b[0m\u001b[0;34m)\u001b[0m\u001b[0;34m\u001b[0m\u001b[0;34m\u001b[0m\u001b[0m\n\u001b[0m\u001b[1;32m      2\u001b[0m \u001b[0mprint\u001b[0m\u001b[0;34m(\u001b[0m\u001b[0mconfig\u001b[0m\u001b[0;34m[\u001b[0m\u001b[0;34m'date_time'\u001b[0m\u001b[0;34m]\u001b[0m\u001b[0;34m[\u001b[0m\u001b[0;34m'last_date'\u001b[0m\u001b[0;34m]\u001b[0m\u001b[0;34m)\u001b[0m\u001b[0;34m\u001b[0m\u001b[0;34m\u001b[0m\u001b[0m\n\u001b[1;32m      3\u001b[0m \u001b[0;32mwith\u001b[0m \u001b[0mopen\u001b[0m\u001b[0;34m(\u001b[0m\u001b[0mmyfitbit_configfile\u001b[0m\u001b[0;34m,\u001b[0m \u001b[0;34m'w'\u001b[0m\u001b[0;34m)\u001b[0m \u001b[0;32mas\u001b[0m \u001b[0mconfigfile\u001b[0m\u001b[0;34m:\u001b[0m\u001b[0;34m\u001b[0m\u001b[0;34m\u001b[0m\u001b[0m\n\u001b[1;32m      4\u001b[0m     \u001b[0mconfig\u001b[0m\u001b[0;34m.\u001b[0m\u001b[0mwrite\u001b[0m\u001b[0;34m(\u001b[0m\u001b[0mconfigfile\u001b[0m\u001b[0;34m)\u001b[0m\u001b[0;34m\u001b[0m\u001b[0;34m\u001b[0m\u001b[0m\n",
      "\u001b[0;31mNameError\u001b[0m: name 'date_to_process' is not defined"
     ]
    }
   ],
   "source": [
    "config['date_time']['last_date'] = str(date_to_process.timetstr('%Y-%m-%d'))\n",
    "print(config['date_time']['last_date'])\n",
    "with open(myfitbit_configfile, 'w') as configfile:\n",
    "    config.write(configfile)"
   ]
  },
  {
   "cell_type": "code",
   "execution_count": null,
   "metadata": {},
   "outputs": [],
   "source": []
  }
 ],
 "metadata": {
  "kernelspec": {
   "display_name": "Python 3",
   "language": "python",
   "name": "python3"
  },
  "language_info": {
   "codemirror_mode": {
    "name": "ipython",
    "version": 3
   },
   "file_extension": ".py",
   "mimetype": "text/x-python",
   "name": "python",
   "nbconvert_exporter": "python",
   "pygments_lexer": "ipython3",
   "version": "3.8.11"
  }
 },
 "nbformat": 4,
 "nbformat_minor": 4
}
